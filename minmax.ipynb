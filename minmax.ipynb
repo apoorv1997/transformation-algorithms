{
 "cells": [
  {
   "cell_type": "code",
   "execution_count": 3,
   "metadata": {},
   "outputs": [
    {
     "name": "stdout",
     "output_type": "stream",
     "text": [
      "{np.int64(1): 2, np.int64(2): 1, np.int64(3): 3, np.int64(4): 1, np.int64(5): 0}\n"
     ]
    }
   ],
   "source": [
    "import pandas as pd\n",
    "from collections import defaultdict\n",
    "from collections import deque\n",
    "\n",
    "def main():\n",
    "    df = pd.read_csv(\"input.csv\")\n",
    "    adjacencyList = defaultdict(list)\n",
    "    for row, col in df.iterrows():\n",
    "        source, dest = col['row'], col['col']\n",
    "        adjacencyList[source].append(dest)\n",
    "        adjacencyList[dest].append(source)\n",
    "    # print(adjacencyList)\n",
    "    shortestPath = {}\n",
    "    for node in adjacencyList:\n",
    "        shortestPath = runBFS(adjacencyList, node, len(adjacencyList))\n",
    "    # pick random center\n",
    "    # iterate and find node that is farthest\n",
    "    # find its distance to the nearest center using the shortestPath dict\n",
    "    # if min_dist > max_dist, we make this the max_dist and assign this node as center\n",
    "    print(shortestPath)\n",
    "    \n",
    "def runBFS(graph, node, end):\n",
    "    queue = deque()\n",
    "    distance = {node: float('inf') for node in graph}\n",
    "    distance[node] = 0\n",
    "    queue.append(node)\n",
    "    while queue:\n",
    "        node = queue.popleft()\n",
    "        for neighbours in graph[node]:\n",
    "            if distance[neighbours] == float('inf'):\n",
    "                distance[neighbours] = distance[node]+1\n",
    "                queue.append(neighbours)\n",
    "    return distance\n",
    "        \n",
    "\n",
    "if __name__==\"__main__\":\n",
    "    main()"
   ]
  }
 ],
 "metadata": {
  "kernelspec": {
   "display_name": "Python 3",
   "language": "python",
   "name": "python3"
  },
  "language_info": {
   "codemirror_mode": {
    "name": "ipython",
    "version": 3
   },
   "file_extension": ".py",
   "mimetype": "text/x-python",
   "name": "python",
   "nbconvert_exporter": "python",
   "pygments_lexer": "ipython3",
   "version": "3.12.9"
  }
 },
 "nbformat": 4,
 "nbformat_minor": 2
}
