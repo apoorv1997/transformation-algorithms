{
 "cells": [
  {
   "cell_type": "code",
   "execution_count": 1,
   "metadata": {},
   "outputs": [
    {
     "name": "stdout",
     "output_type": "stream",
     "text": [
      "Min-Max Multicenter Instance:\n",
      "Vertices: ['A', 'B', 'C']\n",
      "Distance Function:\n",
      "d(A, A) = 0 | d(A, B) = 1 | d(A, C) = 2 | \n",
      "d(B, A) = 1 | d(B, B) = 0 | d(B, C) = 1 | \n",
      "d(C, A) = 2 | d(C, B) = 1 | d(C, C) = 0 | \n",
      "Number of centers (k): 1\n",
      "Target maximum distance (r): 1\n"
     ]
    }
   ],
   "source": [
    "import pandas as pd\n",
    "from collections import defaultdict\n",
    "from collections import deque\n",
    "\n",
    "def minmax_multicenter_to_dominating_set(vertices, distance_function, k):\n",
    "    \"\"\"\n",
    "    \"\"\"\n",
    "    graph = {v: [] for v in vertices}\n",
    "    \n",
    "    # Reconstruct the graph: Add edges where d(u,v) ≤ 1\n",
    "    for u in vertices:\n",
    "        for v in vertices:\n",
    "            if u != v and distance_function[(u, v)] <= 1:\n",
    "                graph[u].append(v)\n",
    "    \n",
    "    return graph, k\n",
    "\n",
    "# Example Usage\n",
    "if __name__ == \"__main__\":\n",
    "    # Min-Max Multicenter instance from earlier reduction\n",
    "    vertices = ['A', 'B', 'C']\n",
    "    distance_function = {\n",
    "        ('A', 'A'): 0, ('A', 'B'): 1, ('A', 'C'): 2,\n",
    "        ('B', 'A'): 1, ('B', 'B'): 0, ('B', 'C'): 1,\n",
    "        ('C', 'A'): 2, ('C', 'B'): 1, ('C', 'C'): 0\n",
    "    }\n",
    "    k = 1  # Same as dominating set size\n",
    "    \n",
    "    # Convert back to Dominating Set\n",
    "    graph, k = minmax_multicenter_to_dominating_set(vertices, distance_function, k)\n",
    "    \n",
    "    print(\"Reconstructed Graph (Adjacency List):\")\n",
    "    print(graph)\n",
    "    print(\"Target Dominating Set Size k =\", k)\n",
    "# Example Usage"
   ]
  },
  {
   "cell_type": "code",
   "execution_count": null,
   "metadata": {},
   "outputs": [],
   "source": []
  }
 ],
 "metadata": {
  "kernelspec": {
   "display_name": "Python 3 (ipykernel)",
   "language": "python",
   "name": "python3"
  },
  "language_info": {
   "codemirror_mode": {
    "name": "ipython",
    "version": 3
   },
   "file_extension": ".py",
   "mimetype": "text/x-python",
   "name": "python",
   "nbconvert_exporter": "python",
   "pygments_lexer": "ipython3",
   "version": "3.12.9"
  }
 },
 "nbformat": 4,
 "nbformat_minor": 4
}
